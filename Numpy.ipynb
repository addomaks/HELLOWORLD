{
 "cells": [
  {
   "cell_type": "code",
   "execution_count": 3,
   "id": "1b58d2a3",
   "metadata": {},
   "outputs": [
    {
     "name": "stdout",
     "output_type": "stream",
     "text": [
      "[ 0  1  2  3  4  5  6  7  8  9 10 11 12 13 14 15 16 17 18 19 20 21 22 23\n",
      " 24 25 26]\n"
     ]
    },
    {
     "data": {
      "text/plain": [
       "numpy.ndarray"
      ]
     },
     "execution_count": 3,
     "metadata": {},
     "output_type": "execute_result"
    }
   ],
   "source": [
    "import numpy\n",
    "n= numpy.arange(27)\n",
    "print(n)\n",
    "type(n)"
   ]
  },
  {
   "cell_type": "code",
   "execution_count": 4,
   "id": "66cf0400",
   "metadata": {},
   "outputs": [
    {
     "data": {
      "text/plain": [
       "array([[[ 0,  1,  2],\n",
       "        [ 3,  4,  5],\n",
       "        [ 6,  7,  8]],\n",
       "\n",
       "       [[ 9, 10, 11],\n",
       "        [12, 13, 14],\n",
       "        [15, 16, 17]],\n",
       "\n",
       "       [[18, 19, 20],\n",
       "        [21, 22, 23],\n",
       "        [24, 25, 26]]])"
      ]
     },
     "execution_count": 4,
     "metadata": {},
     "output_type": "execute_result"
    }
   ],
   "source": [
    "n.reshape(3,3,3)"
   ]
  },
  {
   "cell_type": "code",
   "execution_count": 6,
   "id": "f5291824",
   "metadata": {},
   "outputs": [
    {
     "name": "stderr",
     "output_type": "stream",
     "text": [
      "c:\\users\\adnan\\untitled\\lib\\site-packages\\numpy\\core\\_asarray.py:102: VisibleDeprecationWarning: Creating an ndarray from ragged nested sequences (which is a list-or-tuple of lists-or-tuples-or ndarrays with different lengths or shapes) is deprecated. If you meant to do this, you must specify 'dtype=object' when creating the ndarray.\n",
      "  return array(a, dtype, copy=False, order=order)\n"
     ]
    },
    {
     "data": {
      "text/plain": [
       "array([list([123, 34, 23, 56, 232]), list([]), list([])], dtype=object)"
      ]
     },
     "execution_count": 6,
     "metadata": {},
     "output_type": "execute_result"
    }
   ],
   "source": [
    "m=numpy.asarray([[123,34,23,56,232],[],[]])\n",
    "m"
   ]
  },
  {
   "cell_type": "code",
   "execution_count": 8,
   "id": "8950ec6d",
   "metadata": {},
   "outputs": [],
   "source": [
    "import cv2"
   ]
  },
  {
   "cell_type": "code",
   "execution_count": 24,
   "id": "f8e5a2b7",
   "metadata": {},
   "outputs": [],
   "source": [
    "im_g=cv2.imread(\"D:\\Python\\smallgray.png\", 0)"
   ]
  },
  {
   "cell_type": "code",
   "execution_count": 25,
   "id": "15e8413c",
   "metadata": {},
   "outputs": [
    {
     "data": {
      "text/plain": [
       "array([[187, 158, 104, 121, 143],\n",
       "       [198, 125, 255, 255, 147],\n",
       "       [209, 134, 255,  97, 182]], dtype=uint8)"
      ]
     },
     "execution_count": 25,
     "metadata": {},
     "output_type": "execute_result"
    }
   ],
   "source": [
    "im_g"
   ]
  },
  {
   "cell_type": "code",
   "execution_count": 27,
   "id": "21f12a6f",
   "metadata": {},
   "outputs": [
    {
     "data": {
      "text/plain": [
       "True"
      ]
     },
     "execution_count": 27,
     "metadata": {},
     "output_type": "execute_result"
    }
   ],
   "source": [
    "cv2.imwrite(\"D:\\Python\\\\newsmallgrey.png\", im_g)"
   ]
  },
  {
   "cell_type": "code",
   "execution_count": 28,
   "id": "f703f82b",
   "metadata": {},
   "outputs": [
    {
     "data": {
      "text/plain": [
       "array([[187, 158, 104, 121, 143],\n",
       "       [198, 125, 255, 255, 147],\n",
       "       [209, 134, 255,  97, 182]], dtype=uint8)"
      ]
     },
     "execution_count": 28,
     "metadata": {},
     "output_type": "execute_result"
    }
   ],
   "source": [
    "im_g"
   ]
  },
  {
   "cell_type": "code",
   "execution_count": 31,
   "id": "fb3f8a82",
   "metadata": {},
   "outputs": [
    {
     "data": {
      "text/plain": [
       "array([[158, 104, 121],\n",
       "       [125, 255, 255]], dtype=uint8)"
      ]
     },
     "execution_count": 31,
     "metadata": {},
     "output_type": "execute_result"
    }
   ],
   "source": [
    "im_g[0:2,1:4]"
   ]
  },
  {
   "cell_type": "code",
   "execution_count": 32,
   "id": "d720c23f",
   "metadata": {},
   "outputs": [
    {
     "name": "stdout",
     "output_type": "stream",
     "text": [
      "[187 158 104 121 143]\n",
      "[198 125 255 255 147]\n",
      "[209 134 255  97 182]\n"
     ]
    }
   ],
   "source": [
    "for i in im_g:\n",
    "    print(i)"
   ]
  },
  {
   "cell_type": "code",
   "execution_count": 33,
   "id": "0ad1c5d2",
   "metadata": {},
   "outputs": [
    {
     "name": "stdout",
     "output_type": "stream",
     "text": [
      "[187 198 209]\n",
      "[158 125 134]\n",
      "[104 255 255]\n",
      "[121 255  97]\n",
      "[143 147 182]\n"
     ]
    }
   ],
   "source": [
    "for i in im_g.T:\n",
    "    print(i)"
   ]
  },
  {
   "cell_type": "code",
   "execution_count": 34,
   "id": "da65a82c",
   "metadata": {},
   "outputs": [
    {
     "name": "stdout",
     "output_type": "stream",
     "text": [
      "187\n",
      "158\n",
      "104\n",
      "121\n",
      "143\n",
      "198\n",
      "125\n",
      "255\n",
      "255\n",
      "147\n",
      "209\n",
      "134\n",
      "255\n",
      "97\n",
      "182\n"
     ]
    }
   ],
   "source": [
    "for i in im_g.flat:\n",
    "    print(i)"
   ]
  },
  {
   "cell_type": "code",
   "execution_count": null,
   "id": "809d22ec",
   "metadata": {},
   "outputs": [],
   "source": []
  }
 ],
 "metadata": {
  "kernelspec": {
   "display_name": "Python 3",
   "language": "python",
   "name": "python3"
  },
  "language_info": {
   "codemirror_mode": {
    "name": "ipython",
    "version": 3
   },
   "file_extension": ".py",
   "mimetype": "text/x-python",
   "name": "python",
   "nbconvert_exporter": "python",
   "pygments_lexer": "ipython3",
   "version": "3.8.1"
  }
 },
 "nbformat": 4,
 "nbformat_minor": 5
}
